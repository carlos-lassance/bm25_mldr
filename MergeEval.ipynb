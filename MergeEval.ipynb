{
 "cells": [
  {
   "cell_type": "code",
   "execution_count": 2,
   "id": "c05a8e14-a3c6-4b5c-99c6-c76ebe35e844",
   "metadata": {},
   "outputs": [],
   "source": [
    "import os\n",
    "import json\n",
    "from tqdm import tqdm\n",
    "import numpy as np\n"
   ]
  },
  {
   "cell_type": "code",
   "execution_count": 5,
   "id": "138b903a-6f52-43f7-be48-f1121131269d",
   "metadata": {},
   "outputs": [],
   "source": [
    "results_without_analyzer = dict()\n",
    "results_with_analyzer = dict()\n",
    "results_paper = dict(ar=16.0,de=36.9,en=67.9,es=42.6,fr=51.6,hi=16.2,it=40.4,ja=8.3,ko=19.6,pt=36.2,ru=13.2,th=26.2,zh=0.5)\n",
    "results_paper_m3_all = dict(ar=64.7,de=57.9,en=63.8,es=86.8,fr=83.9,hi=52.2,it=75.5,ja=60.1,ko=55.7,pt=85.4,ru=73.8,th=44.7,zh=40.0)\n",
    "results = {\"BM25 from paper\": results_paper,\n",
    "           \"M3-All from paper\": results_paper_m3_all,\n",
    "           \"BM25-Anserini with analyzer\": results_with_analyzer,\n",
    "          \"BM25-Anserini without analyzer\": results_without_analyzer}\n",
    "for language in [\"ar\",\"de\",\"en\",\"es\",\"fr\",\"hi\",\"it\",\"ja\",\"ko\",\"pt\",\"ru\",\"th\",\"zh\"]:\n",
    "    with open(\"results/MLDR/test-{}-no-analyzer.txt\".format(language)) as f:\n",
    "        line = f.readline().strip()\n",
    "        splitted = line.split(\"\\t\")\n",
    "        result = float(splitted[1].strip())\n",
    "        results_without_analyzer[language] = np.round(result*100,1)\n",
    "    with open(\"results/MLDR/test-{}-analyzer.txt\".format(language)) as f:\n",
    "        line = f.readline().strip()\n",
    "        splitted = line.split(\"\\t\")\n",
    "        result = float(splitted[1].strip())\n",
    "        results_with_analyzer[language] = np.round(result*100,1)\n"
   ]
  },
  {
   "cell_type": "code",
   "execution_count": 6,
   "id": "6069f56a-8184-4528-874c-87612b8a31eb",
   "metadata": {},
   "outputs": [
    {
     "name": "stdout",
     "output_type": "stream",
     "text": [
      "|      |   BM25 from paper |   M3-All from paper |   BM25-Anserini with analyzer |   BM25-Anserini without analyzer |\n",
      "|:-----|------------------:|--------------------:|------------------------------:|---------------------------------:|\n",
      "| ar   |              16   |                64.7 |                          57   |                             67   |\n",
      "| de   |              36.9 |                57.9 |                          60.3 |                             58.5 |\n",
      "| en   |              67.9 |                63.8 |                          67.9 |                             67.9 |\n",
      "| es   |              42.6 |                86.8 |                          82.1 |                             81.9 |\n",
      "| fr   |              51.6 |                83.9 |                          77.4 |                             76.2 |\n",
      "| hi   |              16.2 |                52.2 |                          57.8 |                             58.5 |\n",
      "| it   |              40.4 |                75.5 |                          74.7 |                             75   |\n",
      "| ja   |               8.3 |                60.1 |                          58.2 |                             42.3 |\n",
      "| ko   |              19.6 |                55.7 |                          51.6 |                             51   |\n",
      "| pt   |              36.2 |                85.4 |                          80.7 |                             81.4 |\n",
      "| ru   |              13.2 |                73.8 |                          73.6 |                             70.7 |\n",
      "| th   |              26.2 |                44.7 |                          34.3 |                             29.8 |\n",
      "| zh   |               0.5 |                40   |                          58   |                             28.2 |\n",
      "| mean |              28.9 |                65   |                          64.1 |                             60.6 |\n"
     ]
    }
   ],
   "source": [
    "import pandas as pd\n",
    "df = pd.DataFrame(results)\n",
    "mean = np.round(df.mean(),1)\n",
    "df = df.T\n",
    "df[\"mean\"] = mean\n",
    "df = df.T\n",
    "print(df.to_markdown())"
   ]
  },
  {
   "cell_type": "code",
   "execution_count": 8,
   "id": "c3d29434-b9f4-491c-8d9f-a6068f84a9a9",
   "metadata": {},
   "outputs": [],
   "source": [
    "import numpy as np\n",
    "results_fused = dict()\n",
    "results[\"BM25 with fused corpus\"] = results_fused\n",
    "for language in [\"ar\",\"de\",\"en\",\"es\",\"fr\",\"hi\",\"it\",\"ja\",\"ko\",\"pt\",\"ru\",\"th\",\"zh\"]:\n",
    "    with open(\"results/MLDR/FUSED-test-{}-no-analyzer.txt\".format(language)) as f:\n",
    "        line = f.readline().strip()\n",
    "        splitted = line.split(\"\\t\")\n",
    "        result = float(splitted[1].strip())\n",
    "        results_fused[language] = np.round(result*100,1)"
   ]
  },
  {
   "cell_type": "code",
   "execution_count": 9,
   "id": "467a3ca6-852d-4037-8235-3fb622fec190",
   "metadata": {},
   "outputs": [
    {
     "name": "stdout",
     "output_type": "stream",
     "text": [
      "|      |   BM25 from paper |   M3-All from paper |   BM25-Anserini with analyzer |   BM25-Anserini without analyzer |   BM25 with fused corpus |\n",
      "|:-----|------------------:|--------------------:|------------------------------:|---------------------------------:|-------------------------:|\n",
      "| ar   |              16   |                64.7 |                          57   |                             67   |                     61.4 |\n",
      "| de   |              36.9 |                57.9 |                          60.3 |                             58.5 |                     50.9 |\n",
      "| en   |              67.9 |                63.8 |                          67.9 |                             67.9 |                     65.8 |\n",
      "| es   |              42.6 |                86.8 |                          82.1 |                             81.9 |                     80.5 |\n",
      "| fr   |              51.6 |                83.9 |                          77.4 |                             76.2 |                     70   |\n",
      "| hi   |              16.2 |                52.2 |                          57.8 |                             58.5 |                     50.6 |\n",
      "| it   |              40.4 |                75.5 |                          74.7 |                             75   |                     65.5 |\n",
      "| ja   |               8.3 |                60.1 |                          58.2 |                             42.3 |                     42.9 |\n",
      "| ko   |              19.6 |                55.7 |                          51.6 |                             51   |                     41   |\n",
      "| pt   |              36.2 |                85.4 |                          80.7 |                             81.4 |                     74.5 |\n",
      "| ru   |              13.2 |                73.8 |                          73.6 |                             70.7 |                     64.7 |\n",
      "| th   |              26.2 |                44.7 |                          34.3 |                             29.8 |                     25.1 |\n",
      "| zh   |               0.5 |                40   |                          58   |                             28.2 |                     28.3 |\n",
      "| mean |              28.9 |                65   |                          64.1 |                             60.6 |                     55.5 |\n"
     ]
    }
   ],
   "source": [
    "import pandas as pd\n",
    "df = pd.DataFrame(results)\n",
    "mean = np.round(df.mean(),1)\n",
    "df = df.T\n",
    "df[\"mean\"] = mean\n",
    "df = df.T\n",
    "print(df.to_markdown())"
   ]
  },
  {
   "cell_type": "code",
   "execution_count": null,
   "id": "66066f10-2cb4-444b-8ac3-b83d53e8c4a9",
   "metadata": {},
   "outputs": [],
   "source": []
  }
 ],
 "metadata": {
  "kernelspec": {
   "display_name": "Python 3 (ipykernel)",
   "language": "python",
   "name": "python3"
  },
  "language_info": {
   "codemirror_mode": {
    "name": "ipython",
    "version": 3
   },
   "file_extension": ".py",
   "mimetype": "text/x-python",
   "name": "python",
   "nbconvert_exporter": "python",
   "pygments_lexer": "ipython3",
   "version": "3.11.7"
  }
 },
 "nbformat": 4,
 "nbformat_minor": 5
}
